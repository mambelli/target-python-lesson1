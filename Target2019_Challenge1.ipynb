{
 "cells": [
  {
   "metadata": {},
   "cell_type": "markdown",
   "source": "# Part 1 Challenges\nHere are a few challenges that you should be able to complete based on the knowledge you have currently.\n\n# Challenge 1.1\n\n## Objective\n\nWrite a function that takes a text string (i.e. `text_var = \"Hello World\"`) prints it back out with a border above and below it.\n\n## Hints\n\n- You need to count the number of characters in a string, use the `len(text_var)` function \n- Use the equal sign (`=`) for the border\n- The function should create the same number of `=` characters as the number of characters in the string\n\n## Solution\n\nWrite below your solution.\nHere are a few examples of how it should behave:\n\n```\nborder_text(\"Hello World\") # will return\n===========\nHello World\n===========\n\n\nborder_text(\"Hello Mike\") # will return\n==========\nHello Mike\n==========\n\n\nborder_text(\"Hello\") # will return\n=====\nHello\n=====\n```"
  },
  {
   "metadata": {},
   "cell_type": "code",
   "source": "print('Solution to Challenge 1 goes here')",
   "execution_count": null,
   "outputs": []
  },
  {
   "metadata": {},
   "cell_type": "markdown",
   "source": "# Challenge 1.2\n\n## Objective\n\nWrite a set of Python statements that can find the length of each side of this right triangle.\n\n![Triangle](https://i.imgur.com/JFOqB5i.png)\n\nGiven the following:\n\n- Angle C is 90 degrees\n- Angle B is 54 degrees\n- Side a has a length of 4 inches\n\n## Hints\n\n- Use the Math library\n- Use basic Trigonometry (if you need help,  ask)\n- You will probably need to convert degrees to radians (there's a function for that)\n\n## Solution\n\nWrite below your solution."
  },
  {
   "metadata": {},
   "cell_type": "code",
   "source": "print('Solution to Challenge 2 goes here')",
   "execution_count": null,
   "outputs": []
  },
  {
   "metadata": {},
   "cell_type": "markdown",
   "source": "# Challenge 1.3\n\n## Objective\n\nCreate and print Pascal's triangle by showing 10 levels. Have each level's list in one big list (i.e. `pascals_triangle = [[1], [1, 1], [1, 2, 1], [etc.]]`). You cannot just write `[1,3,3,1]` in your code, you must find it through an algorithm.\n\nYou can append a list after you have created it. For example,\n\n```\npascals_triangle = [[1]]\n\npascals_triangle.append([1,1])\npascals_triangle.append([1,2,1])\n\nprint(pascals_triangle)\n```\n\n![Pascal's Triangle](https://upload.wikimedia.org/wikipedia/commons/0/0d/PascalTriangleAnimated2.gif)\n\n## Solution\n\nWrite below your solution.\nHere prinited are few lines form the pascals_triangle variable.\n\n```\npascals_triangle[0] # Should return\n[1]\npascals_triangle[1] # Should return\n[1, 1]\npascals_triangle[2] # Should return\n[1, 2, 1]\n\n# All the way to\npascals_triangle[9] # Should return\n[1, 9, 36, 84, 126, 126, 84, 36, 9, 1]\n```"
  },
  {
   "metadata": {},
   "cell_type": "code",
   "source": "print('Solution to Challenge 3 goes here')",
   "execution_count": null,
   "outputs": []
  }
 ],
 "metadata": {
  "language_info": {
   "name": "python",
   "pygments_lexer": "ipython3"
  }
 },
 "nbformat": 4,
 "nbformat_minor": 2
}
