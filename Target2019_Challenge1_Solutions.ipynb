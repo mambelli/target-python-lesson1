{
 "cells": [
  {
   "metadata": {},
   "cell_type": "markdown",
   "source": "# Part 1 Challenges with Solutions\nHere are a few challenges that you should be able to complete based on the knowledge you have currently.\n\n# Challenge 1.1\n\n## Objective\n\nWrite a function that takes a text string (i.e. `text_var = \"Hello World\"`) prints it back out with a border above and below it.\n\n## Hints\n\n- You need to count the number of characters in a string, use the `len(text_var)` function \n- Use the equal sign (`=`) for the border\n- The function should create the same number of `=` characters as the number of characters in the string\n\n## Solution\n\nWrite below your solution.\nHere are a few examples of how it should behave:\n\n```\nborder_text(\"Hello World\") # will return\n===========\nHello World\n===========\n\n\nborder_text(\"Hello Mike\") # will return\n==========\nHello Mike\n==========\n\n\nborder_text(\"Hello\") # will return\n=====\nHello\n=====\n```"
  },
  {
   "metadata": {},
   "cell_type": "code",
   "source": "def border_text(text_var):\n     # Let's create our function\n\n     # Take the length of the text and multiply it by \"=\" (the border)\n     border = '='*len(text_var)\n\n     # Print the border, the test, and then the border with separating lines\n\n     print(border+'\\n'+text_var+'\\n'+border)\n\n     return 0\n\n\nborder_text(\"Hello World\")\n\nborder_text(\"World\")",
   "execution_count": null,
   "outputs": []
  },
  {
   "metadata": {},
   "cell_type": "markdown",
   "source": "# Challenge 1.2\n\n## Objective\n\nWrite a set of Python statements that can find the length of each side of this right triangle.\n\n![Triangle](https://i.imgur.com/JFOqB5i.png)\n\nGiven the following:\n\n- Angle C is 90 degrees\n- Angle B is 54 degrees\n- Side a has a length of 4 inches\n\n## Hints\n\n- Use the Math library\n- Use basic Trigonometry (if you need help,  ask)\n- You will probably need to convert degrees to radians (there's a function for that)\n\n## Solution\n\nWrite below your solution."
  },
  {
   "metadata": {},
   "cell_type": "code",
   "source": "# First, import the math library\nimport math\n\n# The math library's sin, cos, tan, etc. functions\n#  deal in radians so we need to convert degrees to radians\nangle_b = math.radians(54)\n\n# Let's find side c\n# cos(54 degrees)=4 inches/c inches\n# c inches*cos(54 degrees)=4 inches\n# c inches=4 inches/cos(54 degrees)\nside_c = 4/math.cos(angle_b)\n\n# Now let's find side b\n# sin(54 degrees)=b inches/side_c\n# side_c*sin(54 degrees)=b inches\nside_b = side_c*math.sin(angle_b)\n\n# Okay, let's print everything out\nprint(\"Side a: 4 inches\")\nprint(\"Side b: \"+str(side_b)+\" inches\")\nprint(\"Side c: \"+str(side_c)+\" inches\")",
   "execution_count": null,
   "outputs": []
  },
  {
   "metadata": {},
   "cell_type": "markdown",
   "source": "# Challenge 1.3\n\n## Objective\n\nCreate and print Pascal's triangle by showing 10 levels. Have each level's list in one big list (i.e. `pascals_triangle = [[1], [1, 1], [1, 2, 1], [etc.]]`). You cannot just write `[1,3,3,1]` in your code, you must find it through an algorithm.\n\nYou can append a list after you have created it. For example,\n\n```\npascals_triangle = [[1]]\n\npascals_triangle.append([1,1])\npascals_triangle.append([1,2,1])\n\nprint(pascals_triangle)\n```\n\n![Pascal's Triangle](https://upload.wikimedia.org/wikipedia/commons/0/0d/PascalTriangleAnimated2.gif)\n\n## Solution\n\nWrite below your solution.\nHere prinited are few lines form the pascals_triangle variable.\n\n```\npascals_triangle[0] # Should return\n[1]\npascals_triangle[1] # Should return\n[1, 1]\npascals_triangle[2] # Should return\n[1, 2, 1]\n\n# All the way to\npascals_triangle[9] # Should return\n[1, 9, 36, 84, 126, 126, 84, 36, 9, 1]\n```"
  },
  {
   "metadata": {},
   "cell_type": "code",
   "source": "# Used to prevent a link from the last_level and pascals_triangle\nimport copy\n\n# Let's create our list and start it will 2 levels\npascals_triangle = [[1], [1, 1]]\n\n# Let's create a while loop that will stop on the tenth level\nwhile len(pascals_triangle) != 10:\n\n    # We need a copy otherwise it will be linked to pascals_triangle\n    last_level = copy.deepcopy(pascals_triangle[-1])\n\n    # Okay, for our next loop, it's going to create the next level\n    new_level = [1]\n    while 1:\n        new_level.append(last_level[0]+last_level[1])\n        last_level.pop(0)\n        if len(last_level) == 1:\n            new_level.append(1)\n            break\n\n    pascals_triangle.append(new_level)\n\n\nprint(pascals_triangle[0])\nprint(pascals_triangle[1])\nprint(pascals_triangle[2])\nprint('...')\nprint(pascals_triangle[8])\nprint(pascals_triangle[9])",
   "execution_count": null,
   "outputs": []
  },
  {
   "metadata": {},
   "cell_type": "code",
   "source": "",
   "execution_count": null,
   "outputs": []
  }
 ],
 "metadata": {
  "language_info": {
   "name": "python",
   "pygments_lexer": "ipython3"
  }
 },
 "nbformat": 4,
 "nbformat_minor": 2
}
