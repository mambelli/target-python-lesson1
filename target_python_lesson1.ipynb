{
 "cells": [
  {
   "metadata": {},
   "cell_type": "markdown",
   "source": "# Target Python Lesson - Part 1 \n---\nThis is a simple tutorial where most information presented is self-explanatory way. There are six small sections explaining the basics of Python (specially for version 3.6).\n\nThis guide was written for a Jupyter Notebook which is an interactive note taking app for code. As seen below, code sections are seperated off and can be run by clicking run (or selecting the content of the cell and with `ctrl` + `Enter` keys).\n\nPython is an interpreted language and you can start the interpreter to run the commands. There are multiple version of the Python interpreter, we will be using Python v3. Most of what you will learn will also work in Python v2.\n\n# 1: Think of Python as a Calculator\n\n### 1.1 Variables & Data Types\n\nVariables store information. I can store the word \"cat\" in the variable named \"animal\". I use the actual text \"animal\" (variable name) in my code and refer the value \"cat\" which is what is stored in the computer's memory. There are quite a few types of variables such as numbers, letters, lists, etc. Each type of variable is called a Data Type."
  },
  {
   "metadata": {},
   "cell_type": "code",
   "source": "animal = \"cat\"",
   "execution_count": null,
   "outputs": []
  },
  {
   "metadata": {},
   "cell_type": "code",
   "source": "my_name = \"Jim Terrance\"\nmy_age = 24\nheight = 5.7",
   "execution_count": null,
   "outputs": []
  },
  {
   "metadata": {},
   "cell_type": "markdown",
   "source": "To access the information, type in a variable name and its information will appear"
  },
  {
   "metadata": {},
   "cell_type": "code",
   "source": "my_name",
   "execution_count": null,
   "outputs": []
  },
  {
   "metadata": {},
   "cell_type": "markdown",
   "source": "### 1.2 Mathematical Operators\n\nPython can do simple math operations by default and you can define more complex ones. Some built in operators it includes are addition(`+`), subtraction(`-`), multiplication(`*`), division(`/`), modulus(`%`), exponent(`**`), and floor division(`//`). The standard math operators precedence does apply to Python, [here](https://docs.python.org/3/reference/expressions.html#operator-precedence) you can find a full table. You can prioritize opertations using parentheses."
  },
  {
   "metadata": {},
   "cell_type": "code",
   "source": "((3+2)**2)/0.1",
   "execution_count": null,
   "outputs": []
  },
  {
   "metadata": {},
   "cell_type": "markdown",
   "source": "What's nice is Python will automatically assign the right data type to a variable. So, if we have an integer (i.e. 5), it will be an integer. If we have a fraction (i.e. 1/3), it will be a float. We can test this by using a function called `type` (don't worry about functions or classes just yet - just know that Python, unless overridden by the coder, will find the best data type possible),"
  },
  {
   "metadata": {},
   "cell_type": "code",
   "source": "type(5)",
   "execution_count": null,
   "outputs": []
  },
  {
   "metadata": {},
   "cell_type": "code",
   "source": "type(1/3)",
   "execution_count": null,
   "outputs": []
  },
  {
   "metadata": {},
   "cell_type": "markdown",
   "source": "### 1.3 Comparison Operators\n\nComparison operators are used in tests. Here, comparison operators are used to check the value on one side to the value on the other side. They result in either True or False.\n\nHere is a list:\n- `==` Equal to\n- `!=` Not equal to\n- `>` Greater than\n- `<` Less than\n- `>=` Greater than or equal to\n- `<=` Less than or equal to\n\n#### The Comparison Test"
  },
  {
   "metadata": {},
   "cell_type": "code",
   "source": "5 > 6",
   "execution_count": null,
   "outputs": []
  },
  {
   "metadata": {},
   "cell_type": "code",
   "source": "\"Hi\" == 'Hi'",
   "execution_count": null,
   "outputs": []
  },
  {
   "metadata": {},
   "cell_type": "code",
   "source": "5 != \"5\"",
   "execution_count": null,
   "outputs": []
  },
  {
   "metadata": {},
   "cell_type": "code",
   "source": "200>=180 #This will be True",
   "execution_count": null,
   "outputs": []
  },
  {
   "metadata": {},
   "cell_type": "markdown",
   "source": "Note: `#` is used for comments. A comment is a piece of text that will not be interpreted by the python interpretor (Python is going to skip over anything after the `#` character and go to the next line). This is a very useful tool when writing a large script. You can explain what you are doing right next to the actual code.\n\n### 1.4 Logical Operators\n\nLogical operators include `and`, `or`, and `not` and they are used exactly how you think they would. Remember, 0 means False and 1 (in reality anything different from 0) means True."
  },
  {
   "metadata": {},
   "cell_type": "code",
   "source": "0 or 0",
   "execution_count": null,
   "outputs": []
  },
  {
   "metadata": {},
   "cell_type": "code",
   "source": "0 or 1",
   "execution_count": null,
   "outputs": []
  },
  {
   "metadata": {},
   "cell_type": "code",
   "source": "0 and 1",
   "execution_count": null,
   "outputs": []
  },
  {
   "metadata": {},
   "cell_type": "code",
   "source": "1 and 1",
   "execution_count": null,
   "outputs": []
  },
  {
   "metadata": {},
   "cell_type": "code",
   "source": "1 and not 0",
   "execution_count": null,
   "outputs": []
  },
  {
   "metadata": {},
   "cell_type": "code",
   "source": "(3 == 2) or (3 == 3)",
   "execution_count": null,
   "outputs": []
  },
  {
   "metadata": {},
   "cell_type": "code",
   "source": "(\"hi\" == \"hi  \") and (5 != 4)",
   "execution_count": null,
   "outputs": []
  },
  {
   "metadata": {},
   "cell_type": "code",
   "source": "not(3 == 3)",
   "execution_count": null,
   "outputs": []
  },
  {
   "metadata": {},
   "cell_type": "markdown",
   "source": "### Putting it all together\n\nLet's have Python solve this question,\n\n> We are throwing an baseball into the air. How high can we throw this baseball vertically into the air?\n>\n>\n> Consider the following:\n>\n> - Gravity pulls down the baseball at a constant acceleration of 9.8 meters per second squared\n> - Fast pitchers can typically throw a baseball at 100 miles per hour\n> - Let's say we throw the baseball at a quarter of that speed\n> - Our hand from throwing the ball is exactly 1.5 meters from the ground\n> - Let's simplify this problem with no other factors such as wind resistance\n> - Conservation of Energy: `mgh = 1/2 * m*(v^2)`"
  },
  {
   "metadata": {},
   "cell_type": "code",
   "source": "g = -9.8 # Gravity\nv_mph = 100/4 # Our throwing speed\nv = v_mph * 1.60934 / 3.6 # MPH to Meters per Second\nh = 2 # Initial height of ball\n# At max height, the speed is zero. (Aka the VERTEX of our porabola.) ",
   "execution_count": null,
   "outputs": []
  },
  {
   "metadata": {},
   "cell_type": "code",
   "source": "max_h = h - v**2 / (2 * g)\nmax_h",
   "execution_count": null,
   "outputs": []
  },
  {
   "metadata": {},
   "cell_type": "markdown",
   "source": "# 2. Identifiers & Keywords\n\nWhen you are programming, you have to choose names for variables, functions, etc. and you are free to choose your own names as long as they start with a letter and cannot contain spaces. There are some names that have a special meaning to the Python language and you should not use them for your own variables. These are the Python keywords and here are just a few of them:\n\n- `and`\n- `or`\n- `if`\n- `while`\n- `global`\n- etc.\n\nYou can list them all with (we'll see later what import does, just use it for now):"
  },
  {
   "metadata": {},
   "cell_type": "code",
   "source": "import keyword\nkeyword.kwlist",
   "execution_count": null,
   "outputs": []
  },
  {
   "metadata": {},
   "cell_type": "markdown",
   "source": "# 3. Functions\n\nSo far we have been writing statements (lines with instructions for the Python interpretor).\n\nFunctions in very simple terms are a way to do something over again at various points in your code without having to rewrite a block of code over and over again.  You write a block of code and you give it a name. Depending on what you want to do, you can also add parameters to your functions. Functions always return something.\n\nTo define a function, use `def`, a name for the function, and then (if you want) parameters. At the end of this line, make sure you use a colon (`:`). The following lines with contain the code. Take a look at this example for a better understanding,"
  },
  {
   "metadata": {},
   "cell_type": "code",
   "source": "def AddTwoNumbers(NumberVariable1, NumberVariable2):\n  TheSum = NumberVariable1 + NumberVariable2\n  return TheSum",
   "execution_count": null,
   "outputs": []
  },
  {
   "metadata": {},
   "cell_type": "markdown",
   "source": "1. We have our function name `AddTwoNumbers`.\n2. We have some parameters - variables we are giving to our function so it can do something with them.\n3. We have the code of our function. This is a *block* of code. **The block is indented by 4 spaces (note: 4 spaces, not a tab)**. The code is the meat of our function, it takes in the parameters (if it has been given any) and works on whatever is there. At the end of the function, we need to send whatever we worked on back out using the `return` statement. In this case, it's the variable `TheResult`.\n\nOkay, we made our function, let's go ahead and call/run our function. We can then send whatever variable we get directly to the `print` statement so we can see it. Now, our Python notebook tries to figure out the best times to automatically print but running this alone will not print out our answer, so we'll force it to print to our screen."
  },
  {
   "metadata": {},
   "cell_type": "code",
   "source": "print(AddTwoNumbers(5, 8))",
   "execution_count": null,
   "outputs": []
  },
  {
   "metadata": {},
   "cell_type": "markdown",
   "source": "You can also assign the results of a function to a variable."
  },
  {
   "metadata": {},
   "cell_type": "code",
   "source": "my_var = AddTwoNumbers(10, 7)\nprint(my_var + 3)",
   "execution_count": null,
   "outputs": []
  },
  {
   "metadata": {},
   "cell_type": "markdown",
   "source": "Note: Variables used within the code of the functions (so, in this case `NumberVariable1`, `NumberVariable2`, and `TheResult`) are destroyed when the function is done running (so you can't access `TheResult` outside of the function unless you do some magical things with global scopes - don't worry about that for now... Just know when the function's done, your only getting what you returned at the end of it).\n\n# 4. Import\n\nPython has a lot of libraries that make available to you many different functions and variables. Many functions that you will need in your future programming efforts are already available in libraries that you can import and use. Below is an example,"
  },
  {
   "metadata": {},
   "cell_type": "code",
   "source": "# \"math\" is a standard library in python\nimport math\nimport random\n# Now, we can access the math library's functions\n# Say we wanted to get the value of Pi and print it out\n# We use a peiod \".\" after our library to let python know where we want it to get \"pi\" from\n\nprint(math.pi)",
   "execution_count": null,
   "outputs": []
  },
  {
   "metadata": {},
   "cell_type": "markdown",
   "source": "You only need to import each library once. We can also use another function of the math library to get the greatest common divisor of two numbers or even get the factorial of a number,"
  },
  {
   "metadata": {},
   "cell_type": "code",
   "source": "print(math.gcd(9, 81)) #G reatest C ommon D ivisor",
   "execution_count": null,
   "outputs": []
  },
  {
   "metadata": {},
   "cell_type": "code",
   "source": "my_factorial = math.factorial(12)\nprint(my_factorial)\n#factorial is every number multiplied by 12 that comes after \n#12 x 11 x 10 x 9 x 8 ......",
   "execution_count": null,
   "outputs": []
  },
  {
   "metadata": {},
   "cell_type": "markdown",
   "source": "Here is one more example, this time using the `random` library "
  },
  {
   "metadata": {},
   "cell_type": "code",
   "source": "import random\n\nprint(random.random()) # Keep running this cell, see how the answer changes",
   "execution_count": null,
   "outputs": []
  },
  {
   "metadata": {},
   "cell_type": "markdown",
   "source": "# 5. Lists\n\nLists are an example of a complex data structure. They are a sequence of variables. If you've programmed in other languages, they are sometimes called arrays. They're a way to store lots of variables in one big variable."
  },
  {
   "metadata": {},
   "cell_type": "code",
   "source": "food = ['apple', 'banana', 'pineapple']",
   "execution_count": null,
   "outputs": []
  },
  {
   "metadata": {},
   "cell_type": "markdown",
   "source": "Lists have indexes (think of them like the order of the variables in the big variable). Indexes start from 0 and go up from there. So `apple` has an index of 0, `banana` has an index of 1, and so on. You can access the whole list, an element or slices, here are some examples:"
  },
  {
   "metadata": {},
   "cell_type": "code",
   "source": "food",
   "execution_count": null,
   "outputs": []
  },
  {
   "metadata": {},
   "cell_type": "code",
   "source": "food[0]",
   "execution_count": null,
   "outputs": []
  },
  {
   "metadata": {},
   "cell_type": "code",
   "source": "food[2]",
   "execution_count": null,
   "outputs": []
  },
  {
   "metadata": {},
   "cell_type": "code",
   "source": "food[1:] # Start at index 1 and go up",
   "execution_count": null,
   "outputs": []
  },
  {
   "metadata": {},
   "cell_type": "code",
   "source": "food[:1] # Up to the first variable",
   "execution_count": null,
   "outputs": []
  },
  {
   "metadata": {},
   "cell_type": "code",
   "source": "food[-1] # Go from the back and get the first variable",
   "execution_count": null,
   "outputs": []
  },
  {
   "metadata": {},
   "cell_type": "markdown",
   "source": "Tip: Use a list to if you need to return a lot of variables in a function. You can only return once in a function.\n\n# 6. Flow Control\n\n### 6.1 If Statement\n\nThe if statement is very useful for running tests and doing actions based on those tests results. Here is an example of this in practice:"
  },
  {
   "metadata": {},
   "cell_type": "code",
   "source": "my_age = input(\"What is your age?\") # input is a statement that displays text & takes an input\nif int(my_age) >= 16:\n    print(\"You can drive with a license\")\nelif int(my_age) == 15:\n    print(\"You can drive with a parent\")\n\n    ",
   "execution_count": null,
   "outputs": []
  },
  {
   "metadata": {},
   "cell_type": "markdown",
   "source": "`elif` means that that if the first `if` statement was False, then try another if statement. If the first `if` statement was true, it wouldn't even go to the next `elif` statement."
  },
  {
   "metadata": {},
   "cell_type": "code",
   "source": "if int(my_age) <= 15:\n     print(\"You get a toy for your birthday\")\nelif int(my_age) >= 16:\n     print(\"You get a car for your birthday\")\nelse:\n     print(\"No party\")",
   "execution_count": null,
   "outputs": []
  },
  {
   "metadata": {},
   "cell_type": "markdown",
   "source": "`else` means that if all the `if` and `elif` statements were false, then do this.\n\nAll the lines with `if`, `elif`, and `else` are followed by a block of code. Remember the four space indentation.\n\n### 6.2 Loops\n\nA loop is something that keeps happening until it is stopped.\n\n\n#### 6.2.1 While Loops\n\nA `while` loop is a loop that will continue until it's condition is false."
  },
  {
   "metadata": {},
   "cell_type": "code",
   "source": "x = 0\nwhile x < 10:\n    print(x)\n    x += 1 # This is a way of saying, x = x + 1",
   "execution_count": null,
   "outputs": []
  },
  {
   "metadata": {},
   "cell_type": "markdown",
   "source": "See how it went from 0 to 9, not 10? When `x` was 10, the while condition became false.\n\n#### 6.2.2 For Loops\n\nA `for` loop iterates through a list and stores the information in a temporary variable."
  },
  {
   "metadata": {},
   "cell_type": "code",
   "source": "MyList = ['cat', 'dog', 'mouse', 'rabbit']",
   "execution_count": null,
   "outputs": []
  },
  {
   "metadata": {},
   "cell_type": "code",
   "source": "for TempVariable in MyList:\n     print(TempVariable)",
   "execution_count": null,
   "outputs": []
  },
  {
   "metadata": {},
   "cell_type": "markdown",
   "source": "\nOne last question: How can you write some Python to print the square of all even integers smaller than 10?"
  },
  {
   "metadata": {},
   "cell_type": "code",
   "source": "print ([x**2 for x in range(10) if x%2== 0]) ",
   "execution_count": null,
   "outputs": []
  },
  {
   "metadata": {},
   "cell_type": "markdown",
   "source": "Note how the solution proposed combines lists, loops and conditions. It is called Python's **List Comprehension**.\n\n\n# Done with Lesson 1\n\nYou now know some basics of Python. Congrats, now how about putting that to the test? Now open the challenge and see if you can complete it.\n\n\n\n###### Authors: Thomas Hein, Marco Mambelli"
  }
 ],
 "metadata": {
  "language_info": {
   "name": "python",
   "pygments_lexer": "ipython3"
  }
 },
 "nbformat": 4,
 "nbformat_minor": 2
}
